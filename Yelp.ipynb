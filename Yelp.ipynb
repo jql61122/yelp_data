{
 "cells": [
  {
   "cell_type": "markdown",
   "id": "f17a6e03",
   "metadata": {},
   "source": [
    "# Yelp \"Business\" Dataset - Are Reviews Biased Across State Lines?\n",
    "\n",
    "In this analysis I delve into a dataset published by Yelp containing review information for over 150,000 businesses.\n",
    "\n",
    "As an active Yelp user, I rely heavily on reviews when choosing which businesses to patronize, particularly when I am traveling and less familiar with the territory. I am also a frequent Yelp reviewer, though I sometimes wonder whether I have natural biases that may skew the data. Ultimately, individual biases should not be an issue for Yelp as long as: 1.) they are randomly distributed and 2.) there is a sufficient number of reviews to smooth variation.\n",
    "\n",
    "I'm interested in testing (1), specifically the question of whether there are cultural tendencies based on geography that may bias reviews in a non-random way, due to my personal anecdotal experience with Uber's peer-based review system. Years ago, I moved from New York to California, and I noticed that my Uber passenger rating rose materially in the months following my move. Since my behavior as an Uber passenger didn't change, I hypothesize that the increase in my rating is due to \"nicer\" Californian Uber drivers giving me higher ratings for the same passenger behavior.\n",
    "\n",
    "If the same cultural tendencies were to apply to Yelp reviews, it could be misleading for users traveling across state lines, who may be unaware of rating \"inflation\" or \"deflation\" and make decisions based on skewed data.\n",
    "\n",
    "Source: https://www.yelp.com/dataset"
   ]
  },
  {
   "cell_type": "markdown",
   "id": "eee08e4c",
   "metadata": {},
   "source": [
    "I start by importing the dataset and inspecting some key information. It looks like there is a unique key \"business_id\" for each business as well as a range of descriptive data such as location information (city, state, etc) and review information (stars, review_count, etc).\n",
    "\n",
    "For the majority of these categories, there are no null values."
   ]
  },
  {
   "cell_type": "code",
   "execution_count": 1,
   "id": "1a9f1376",
   "metadata": {},
   "outputs": [
    {
     "name": "stdout",
     "output_type": "stream",
     "text": [
      "<class 'pandas.core.frame.DataFrame'>\n",
      "RangeIndex: 150346 entries, 0 to 150345\n",
      "Data columns (total 14 columns):\n",
      " #   Column        Non-Null Count   Dtype  \n",
      "---  ------        --------------   -----  \n",
      " 0   business_id   150346 non-null  object \n",
      " 1   name          150346 non-null  object \n",
      " 2   address       150346 non-null  object \n",
      " 3   city          150346 non-null  object \n",
      " 4   state         150346 non-null  object \n",
      " 5   postal_code   150346 non-null  object \n",
      " 6   latitude      150346 non-null  float64\n",
      " 7   longitude     150346 non-null  float64\n",
      " 8   stars         150346 non-null  float64\n",
      " 9   review_count  150346 non-null  int64  \n",
      " 10  is_open       150346 non-null  int64  \n",
      " 11  attributes    136602 non-null  object \n",
      " 12  categories    150243 non-null  object \n",
      " 13  hours         127123 non-null  object \n",
      "dtypes: float64(3), int64(2), object(9)\n",
      "memory usage: 16.1+ MB\n",
      "None\n"
     ]
    },
    {
     "data": {
      "text/html": [
       "<div>\n",
       "<style scoped>\n",
       "    .dataframe tbody tr th:only-of-type {\n",
       "        vertical-align: middle;\n",
       "    }\n",
       "\n",
       "    .dataframe tbody tr th {\n",
       "        vertical-align: top;\n",
       "    }\n",
       "\n",
       "    .dataframe thead th {\n",
       "        text-align: right;\n",
       "    }\n",
       "</style>\n",
       "<table border=\"1\" class=\"dataframe\">\n",
       "  <thead>\n",
       "    <tr style=\"text-align: right;\">\n",
       "      <th></th>\n",
       "      <th>business_id</th>\n",
       "      <th>name</th>\n",
       "      <th>address</th>\n",
       "      <th>city</th>\n",
       "      <th>state</th>\n",
       "      <th>postal_code</th>\n",
       "      <th>latitude</th>\n",
       "      <th>longitude</th>\n",
       "      <th>stars</th>\n",
       "      <th>review_count</th>\n",
       "      <th>is_open</th>\n",
       "      <th>attributes</th>\n",
       "      <th>categories</th>\n",
       "      <th>hours</th>\n",
       "    </tr>\n",
       "  </thead>\n",
       "  <tbody>\n",
       "    <tr>\n",
       "      <th>0</th>\n",
       "      <td>Pns2l4eNsfO8kk83dixA6A</td>\n",
       "      <td>Abby Rappoport, LAC, CMQ</td>\n",
       "      <td>1616 Chapala St, Ste 2</td>\n",
       "      <td>Santa Barbara</td>\n",
       "      <td>CA</td>\n",
       "      <td>93101</td>\n",
       "      <td>34.426679</td>\n",
       "      <td>-119.711197</td>\n",
       "      <td>5.0</td>\n",
       "      <td>7</td>\n",
       "      <td>0</td>\n",
       "      <td>{'ByAppointmentOnly': 'True'}</td>\n",
       "      <td>Doctors, Traditional Chinese Medicine, Naturop...</td>\n",
       "      <td>None</td>\n",
       "    </tr>\n",
       "    <tr>\n",
       "      <th>1</th>\n",
       "      <td>mpf3x-BjTdTEA3yCZrAYPw</td>\n",
       "      <td>The UPS Store</td>\n",
       "      <td>87 Grasso Plaza Shopping Center</td>\n",
       "      <td>Affton</td>\n",
       "      <td>MO</td>\n",
       "      <td>63123</td>\n",
       "      <td>38.551126</td>\n",
       "      <td>-90.335695</td>\n",
       "      <td>3.0</td>\n",
       "      <td>15</td>\n",
       "      <td>1</td>\n",
       "      <td>{'BusinessAcceptsCreditCards': 'True'}</td>\n",
       "      <td>Shipping Centers, Local Services, Notaries, Ma...</td>\n",
       "      <td>{'Monday': '0:0-0:0', 'Tuesday': '8:0-18:30', ...</td>\n",
       "    </tr>\n",
       "    <tr>\n",
       "      <th>2</th>\n",
       "      <td>tUFrWirKiKi_TAnsVWINQQ</td>\n",
       "      <td>Target</td>\n",
       "      <td>5255 E Broadway Blvd</td>\n",
       "      <td>Tucson</td>\n",
       "      <td>AZ</td>\n",
       "      <td>85711</td>\n",
       "      <td>32.223236</td>\n",
       "      <td>-110.880452</td>\n",
       "      <td>3.5</td>\n",
       "      <td>22</td>\n",
       "      <td>0</td>\n",
       "      <td>{'BikeParking': 'True', 'BusinessAcceptsCredit...</td>\n",
       "      <td>Department Stores, Shopping, Fashion, Home &amp; G...</td>\n",
       "      <td>{'Monday': '8:0-22:0', 'Tuesday': '8:0-22:0', ...</td>\n",
       "    </tr>\n",
       "    <tr>\n",
       "      <th>3</th>\n",
       "      <td>MTSW4McQd7CbVtyjqoe9mw</td>\n",
       "      <td>St Honore Pastries</td>\n",
       "      <td>935 Race St</td>\n",
       "      <td>Philadelphia</td>\n",
       "      <td>PA</td>\n",
       "      <td>19107</td>\n",
       "      <td>39.955505</td>\n",
       "      <td>-75.155564</td>\n",
       "      <td>4.0</td>\n",
       "      <td>80</td>\n",
       "      <td>1</td>\n",
       "      <td>{'RestaurantsDelivery': 'False', 'OutdoorSeati...</td>\n",
       "      <td>Restaurants, Food, Bubble Tea, Coffee &amp; Tea, B...</td>\n",
       "      <td>{'Monday': '7:0-20:0', 'Tuesday': '7:0-20:0', ...</td>\n",
       "    </tr>\n",
       "    <tr>\n",
       "      <th>4</th>\n",
       "      <td>mWMc6_wTdE0EUBKIGXDVfA</td>\n",
       "      <td>Perkiomen Valley Brewery</td>\n",
       "      <td>101 Walnut St</td>\n",
       "      <td>Green Lane</td>\n",
       "      <td>PA</td>\n",
       "      <td>18054</td>\n",
       "      <td>40.338183</td>\n",
       "      <td>-75.471659</td>\n",
       "      <td>4.5</td>\n",
       "      <td>13</td>\n",
       "      <td>1</td>\n",
       "      <td>{'BusinessAcceptsCreditCards': 'True', 'Wheelc...</td>\n",
       "      <td>Brewpubs, Breweries, Food</td>\n",
       "      <td>{'Wednesday': '14:0-22:0', 'Thursday': '16:0-2...</td>\n",
       "    </tr>\n",
       "    <tr>\n",
       "      <th>5</th>\n",
       "      <td>CF33F8-E6oudUQ46HnavjQ</td>\n",
       "      <td>Sonic Drive-In</td>\n",
       "      <td>615 S Main St</td>\n",
       "      <td>Ashland City</td>\n",
       "      <td>TN</td>\n",
       "      <td>37015</td>\n",
       "      <td>36.269593</td>\n",
       "      <td>-87.058943</td>\n",
       "      <td>2.0</td>\n",
       "      <td>6</td>\n",
       "      <td>1</td>\n",
       "      <td>{'BusinessParking': 'None', 'BusinessAcceptsCr...</td>\n",
       "      <td>Burgers, Fast Food, Sandwiches, Food, Ice Crea...</td>\n",
       "      <td>{'Monday': '0:0-0:0', 'Tuesday': '6:0-22:0', '...</td>\n",
       "    </tr>\n",
       "    <tr>\n",
       "      <th>6</th>\n",
       "      <td>n_0UpQx1hsNbnPUSlodU8w</td>\n",
       "      <td>Famous Footwear</td>\n",
       "      <td>8522 Eager Road, Dierbergs Brentwood Point</td>\n",
       "      <td>Brentwood</td>\n",
       "      <td>MO</td>\n",
       "      <td>63144</td>\n",
       "      <td>38.627695</td>\n",
       "      <td>-90.340465</td>\n",
       "      <td>2.5</td>\n",
       "      <td>13</td>\n",
       "      <td>1</td>\n",
       "      <td>{'BusinessAcceptsCreditCards': 'True', 'Restau...</td>\n",
       "      <td>Sporting Goods, Fashion, Shoe Stores, Shopping...</td>\n",
       "      <td>{'Monday': '0:0-0:0', 'Tuesday': '10:0-18:0', ...</td>\n",
       "    </tr>\n",
       "    <tr>\n",
       "      <th>7</th>\n",
       "      <td>qkRM_2X51Yqxk3btlwAQIg</td>\n",
       "      <td>Temple Beth-El</td>\n",
       "      <td>400 Pasadena Ave S</td>\n",
       "      <td>St. Petersburg</td>\n",
       "      <td>FL</td>\n",
       "      <td>33707</td>\n",
       "      <td>27.766590</td>\n",
       "      <td>-82.732983</td>\n",
       "      <td>3.5</td>\n",
       "      <td>5</td>\n",
       "      <td>1</td>\n",
       "      <td>None</td>\n",
       "      <td>Synagogues, Religious Organizations</td>\n",
       "      <td>{'Monday': '9:0-17:0', 'Tuesday': '9:0-17:0', ...</td>\n",
       "    </tr>\n",
       "    <tr>\n",
       "      <th>8</th>\n",
       "      <td>k0hlBqXX-Bt0vf1op7Jr1w</td>\n",
       "      <td>Tsevi's Pub And Grill</td>\n",
       "      <td>8025 Mackenzie Rd</td>\n",
       "      <td>Affton</td>\n",
       "      <td>MO</td>\n",
       "      <td>63123</td>\n",
       "      <td>38.565165</td>\n",
       "      <td>-90.321087</td>\n",
       "      <td>3.0</td>\n",
       "      <td>19</td>\n",
       "      <td>0</td>\n",
       "      <td>{'Caters': 'True', 'Alcohol': 'u'full_bar'', '...</td>\n",
       "      <td>Pubs, Restaurants, Italian, Bars, American (Tr...</td>\n",
       "      <td>None</td>\n",
       "    </tr>\n",
       "    <tr>\n",
       "      <th>9</th>\n",
       "      <td>bBDDEgkFA1Otx9Lfe7BZUQ</td>\n",
       "      <td>Sonic Drive-In</td>\n",
       "      <td>2312 Dickerson Pike</td>\n",
       "      <td>Nashville</td>\n",
       "      <td>TN</td>\n",
       "      <td>37207</td>\n",
       "      <td>36.208102</td>\n",
       "      <td>-86.768170</td>\n",
       "      <td>1.5</td>\n",
       "      <td>10</td>\n",
       "      <td>1</td>\n",
       "      <td>{'RestaurantsAttire': ''casual'', 'Restaurants...</td>\n",
       "      <td>Ice Cream &amp; Frozen Yogurt, Fast Food, Burgers,...</td>\n",
       "      <td>{'Monday': '0:0-0:0', 'Tuesday': '6:0-21:0', '...</td>\n",
       "    </tr>\n",
       "  </tbody>\n",
       "</table>\n",
       "</div>"
      ],
      "text/plain": [
       "              business_id                      name  \\\n",
       "0  Pns2l4eNsfO8kk83dixA6A  Abby Rappoport, LAC, CMQ   \n",
       "1  mpf3x-BjTdTEA3yCZrAYPw             The UPS Store   \n",
       "2  tUFrWirKiKi_TAnsVWINQQ                    Target   \n",
       "3  MTSW4McQd7CbVtyjqoe9mw        St Honore Pastries   \n",
       "4  mWMc6_wTdE0EUBKIGXDVfA  Perkiomen Valley Brewery   \n",
       "5  CF33F8-E6oudUQ46HnavjQ            Sonic Drive-In   \n",
       "6  n_0UpQx1hsNbnPUSlodU8w           Famous Footwear   \n",
       "7  qkRM_2X51Yqxk3btlwAQIg            Temple Beth-El   \n",
       "8  k0hlBqXX-Bt0vf1op7Jr1w     Tsevi's Pub And Grill   \n",
       "9  bBDDEgkFA1Otx9Lfe7BZUQ            Sonic Drive-In   \n",
       "\n",
       "                                      address            city state  \\\n",
       "0                      1616 Chapala St, Ste 2   Santa Barbara    CA   \n",
       "1             87 Grasso Plaza Shopping Center          Affton    MO   \n",
       "2                        5255 E Broadway Blvd          Tucson    AZ   \n",
       "3                                 935 Race St    Philadelphia    PA   \n",
       "4                               101 Walnut St      Green Lane    PA   \n",
       "5                               615 S Main St    Ashland City    TN   \n",
       "6  8522 Eager Road, Dierbergs Brentwood Point       Brentwood    MO   \n",
       "7                          400 Pasadena Ave S  St. Petersburg    FL   \n",
       "8                           8025 Mackenzie Rd          Affton    MO   \n",
       "9                         2312 Dickerson Pike       Nashville    TN   \n",
       "\n",
       "  postal_code   latitude   longitude  stars  review_count  is_open  \\\n",
       "0       93101  34.426679 -119.711197    5.0             7        0   \n",
       "1       63123  38.551126  -90.335695    3.0            15        1   \n",
       "2       85711  32.223236 -110.880452    3.5            22        0   \n",
       "3       19107  39.955505  -75.155564    4.0            80        1   \n",
       "4       18054  40.338183  -75.471659    4.5            13        1   \n",
       "5       37015  36.269593  -87.058943    2.0             6        1   \n",
       "6       63144  38.627695  -90.340465    2.5            13        1   \n",
       "7       33707  27.766590  -82.732983    3.5             5        1   \n",
       "8       63123  38.565165  -90.321087    3.0            19        0   \n",
       "9       37207  36.208102  -86.768170    1.5            10        1   \n",
       "\n",
       "                                          attributes  \\\n",
       "0                      {'ByAppointmentOnly': 'True'}   \n",
       "1             {'BusinessAcceptsCreditCards': 'True'}   \n",
       "2  {'BikeParking': 'True', 'BusinessAcceptsCredit...   \n",
       "3  {'RestaurantsDelivery': 'False', 'OutdoorSeati...   \n",
       "4  {'BusinessAcceptsCreditCards': 'True', 'Wheelc...   \n",
       "5  {'BusinessParking': 'None', 'BusinessAcceptsCr...   \n",
       "6  {'BusinessAcceptsCreditCards': 'True', 'Restau...   \n",
       "7                                               None   \n",
       "8  {'Caters': 'True', 'Alcohol': 'u'full_bar'', '...   \n",
       "9  {'RestaurantsAttire': ''casual'', 'Restaurants...   \n",
       "\n",
       "                                          categories  \\\n",
       "0  Doctors, Traditional Chinese Medicine, Naturop...   \n",
       "1  Shipping Centers, Local Services, Notaries, Ma...   \n",
       "2  Department Stores, Shopping, Fashion, Home & G...   \n",
       "3  Restaurants, Food, Bubble Tea, Coffee & Tea, B...   \n",
       "4                          Brewpubs, Breweries, Food   \n",
       "5  Burgers, Fast Food, Sandwiches, Food, Ice Crea...   \n",
       "6  Sporting Goods, Fashion, Shoe Stores, Shopping...   \n",
       "7                Synagogues, Religious Organizations   \n",
       "8  Pubs, Restaurants, Italian, Bars, American (Tr...   \n",
       "9  Ice Cream & Frozen Yogurt, Fast Food, Burgers,...   \n",
       "\n",
       "                                               hours  \n",
       "0                                               None  \n",
       "1  {'Monday': '0:0-0:0', 'Tuesday': '8:0-18:30', ...  \n",
       "2  {'Monday': '8:0-22:0', 'Tuesday': '8:0-22:0', ...  \n",
       "3  {'Monday': '7:0-20:0', 'Tuesday': '7:0-20:0', ...  \n",
       "4  {'Wednesday': '14:0-22:0', 'Thursday': '16:0-2...  \n",
       "5  {'Monday': '0:0-0:0', 'Tuesday': '6:0-22:0', '...  \n",
       "6  {'Monday': '0:0-0:0', 'Tuesday': '10:0-18:0', ...  \n",
       "7  {'Monday': '9:0-17:0', 'Tuesday': '9:0-17:0', ...  \n",
       "8                                               None  \n",
       "9  {'Monday': '0:0-0:0', 'Tuesday': '6:0-21:0', '...  "
      ]
     },
     "execution_count": 1,
     "metadata": {},
     "output_type": "execute_result"
    }
   ],
   "source": [
    "import pandas as pd\n",
    "import matplotlib.pyplot as plt\n",
    "import seaborn as sns\n",
    "\n",
    "df = pd.read_json('yelp_academic_dataset_business.json', lines=True)\n",
    "\n",
    "print(df.info())\n",
    "df.head(10)"
   ]
  },
  {
   "cell_type": "markdown",
   "id": "9a705f60",
   "metadata": {},
   "source": [
    "Let's begin by looking at descriptive statistics for the 'stars' data. Yelp allows users to rate businesses on a scale of 1-5 stars, with 5 being the best rating.\n",
    "\n",
    "With a mean (3.6) that is higher than the midpoint of the range of available ratings (3.0), it seems that the ratings data is skewed towards better ratings. This matches my intuition that users are more likely to be \"nice\" rather than critical in their reviews. "
   ]
  },
  {
   "cell_type": "code",
   "execution_count": 2,
   "id": "34168092",
   "metadata": {},
   "outputs": [
    {
     "data": {
      "text/plain": [
       "count    150346.000000\n",
       "mean          3.596724\n",
       "std           0.974421\n",
       "min           1.000000\n",
       "25%           3.000000\n",
       "50%           3.500000\n",
       "75%           4.500000\n",
       "max           5.000000\n",
       "Name: stars, dtype: float64"
      ]
     },
     "execution_count": 2,
     "metadata": {},
     "output_type": "execute_result"
    }
   ],
   "source": [
    "df.stars.describe()"
   ]
  },
  {
   "cell_type": "markdown",
   "id": "b5933f00",
   "metadata": {},
   "source": [
    "Viewing the stars data in graphical form corroborates the skew towards higher ratings - 4 stars is the most common rating and 1 star is the least. \n",
    "\n",
    "There is a clear propensity towards ratings of 3 or higher vs lower than 3.\n",
    "\n",
    "Given the limited range of accepted values, there are no material outliers."
   ]
  },
  {
   "cell_type": "code",
   "execution_count": 3,
   "id": "c1df4190",
   "metadata": {},
   "outputs": [
    {
     "data": {
      "text/plain": [
       "<AxesSubplot:xlabel='stars', ylabel='count'>"
      ]
     },
     "execution_count": 3,
     "metadata": {},
     "output_type": "execute_result"
    },
    {
     "data": {
      "image/png": "[encoded data removed]",
      "text/plain": [
       "<Figure size 640x480 with 1 Axes>"
      ]
     },
     "metadata": {},
     "output_type": "display_data"
    }
   ],
   "source": [
    "sns.countplot(x=df.stars, color='green')"
   ]
  },
  {
   "cell_type": "markdown",
   "id": "45dcde55",
   "metadata": {},
   "source": [
    "I'm curious to see if average ratings differ between states, as rating skews across state lines might be confusing or misleading to users who are traveling outside of their home state (where they are familiar with the rating scale).\n",
    "\n",
    "To start, let's examine the breakdown of data by 'State'. It looks like there are some states with a lot of data (2000+ entries) and some with relatively few (4 or lower)."
   ]
  },
  {
   "cell_type": "code",
   "execution_count": 4,
   "id": "554164ec",
   "metadata": {},
   "outputs": [
    {
     "data": {
      "text/plain": [
       "PA     34039\n",
       "FL     26330\n",
       "TN     12056\n",
       "IN     11247\n",
       "MO     10913\n",
       "LA      9924\n",
       "AZ      9912\n",
       "NJ      8536\n",
       "NV      7715\n",
       "AB      5573\n",
       "CA      5203\n",
       "ID      4467\n",
       "DE      2265\n",
       "IL      2145\n",
       "TX         4\n",
       "CO         3\n",
       "WA         2\n",
       "HI         2\n",
       "MA         2\n",
       "NC         1\n",
       "UT         1\n",
       "MT         1\n",
       "MI         1\n",
       "SD         1\n",
       "XMS        1\n",
       "VI         1\n",
       "VT         1\n",
       "Name: state, dtype: int64"
      ]
     },
     "execution_count": 4,
     "metadata": {},
     "output_type": "execute_result"
    }
   ],
   "source": [
    "states_value_counts = df.state.value_counts()\n",
    "states_value_counts"
   ]
  },
  {
   "cell_type": "markdown",
   "id": "20455680",
   "metadata": {},
   "source": [
    "I remove the rows with insufficient data to draw significant insights"
   ]
  },
  {
   "cell_type": "code",
   "execution_count": 5,
   "id": "0422d5f8",
   "metadata": {},
   "outputs": [
    {
     "data": {
      "text/plain": [
       "PA    34039\n",
       "FL    26330\n",
       "TN    12056\n",
       "IN    11247\n",
       "MO    10913\n",
       "LA     9924\n",
       "AZ     9912\n",
       "NJ     8536\n",
       "NV     7715\n",
       "AB     5573\n",
       "CA     5203\n",
       "ID     4467\n",
       "DE     2265\n",
       "IL     2145\n",
       "Name: state, dtype: int64"
      ]
     },
     "execution_count": 5,
     "metadata": {},
     "output_type": "execute_result"
    }
   ],
   "source": [
    "to_remove = states_value_counts[states_value_counts < 10].index\n",
    "df_states = df[~df.state.isin(to_remove)]\n",
    "df_states.state.value_counts()"
   ]
  },
  {
   "cell_type": "markdown",
   "id": "421de17f",
   "metadata": {},
   "source": [
    "Now that we have eliminated the states with minimal data, let's examine how the average stars differs by state.\n",
    "\n",
    "At first glance, all the means look pretty similar - the range is only ~0.6 stars, and all averages have a \"3-handle\"."
   ]
  },
  {
   "cell_type": "code",
   "execution_count": 6,
   "id": "451c8eb2",
   "metadata": {},
   "outputs": [
    {
     "name": "stdout",
     "output_type": "stream",
     "text": [
      "state\n",
      "AB    3.447515\n",
      "AZ    3.592010\n",
      "CA    3.996733\n",
      "DE    3.354967\n",
      "FL    3.610957\n",
      "ID    3.707634\n",
      "IL    3.369697\n",
      "IN    3.588246\n",
      "LA    3.679162\n",
      "MO    3.546092\n",
      "NJ    3.459114\n",
      "NV    3.736876\n",
      "PA    3.573019\n",
      "TN    3.571500\n",
      "Name: stars, dtype: float64\n"
     ]
    },
    {
     "data": {
      "text/plain": [
       "count    14.000000\n",
       "mean      3.588109\n",
       "std       0.164773\n",
       "min       3.354967\n",
       "25%       3.480859\n",
       "50%       3.580632\n",
       "75%       3.662110\n",
       "max       3.996733\n",
       "Name: stars, dtype: float64"
      ]
     },
     "execution_count": 6,
     "metadata": {},
     "output_type": "execute_result"
    },
    {
     "data": {
      "image/png": "[encoded data removed]",
      "text/plain": [
       "<Figure size 640x480 with 1 Axes>"
      ]
     },
     "metadata": {},
     "output_type": "display_data"
    }
   ],
   "source": [
    "mean_stars_by_state = df_states.groupby(['state'])['stars'].mean()\n",
    "print(mean_stars_by_state)\n",
    "mean_stars_by_state.sort_values().plot(kind='bar', xlabel = 'State', ylabel='Average Stars', title = 'Average Stars by State')\n",
    "mean_stars_by_state.describe()"
   ]
  },
  {
   "cell_type": "markdown",
   "id": "c73eb168",
   "metadata": {},
   "source": [
    "While the averages seem similar, are they mathematically the same? \n",
    "\n",
    "To answer this question, I test to see if the means for CA and DE (highest and lowest values) are statistically different.\n",
    "\n",
    "Null Hypothesis: CA_mean = DE_mean\n",
    "\n",
    "Alternate Hypothesis: CA_mean != DE_mean\n",
    "\n",
    "Significance Value = 1.96 (P-value 2.5%)\n",
    "\n",
    "We easily reject the null hypothesis with a Z-Score of 26.32. While the values at first glance look similar, given the large quantity of data they are still statistically different."
   ]
  },
  {
   "cell_type": "code",
   "execution_count": 7,
   "id": "f8ed3e15",
   "metadata": {},
   "outputs": [
    {
     "name": "stdout",
     "output_type": "stream",
     "text": [
      "Z-Score: 26.32\n"
     ]
    }
   ],
   "source": [
    "df_CA = df_states[df_states.state=='CA']\n",
    "df_DE = df_states[df_states.state=='DE']\n",
    "\n",
    "CA_mean = df_CA.stars.mean()\n",
    "CA_stdev = df_CA.stars.std()\n",
    "CA_count = df_CA.stars.count()\n",
    "DE_mean = df_DE.stars.mean()\n",
    "DE_stdev = df_DE.stars.std()\n",
    "DE_count = df_DE.stars.count()\n",
    "\n",
    "z_CA_DE = (CA_mean - DE_mean) / (CA_stdev**2/CA_count + DE_stdev**2/DE_count)**0.5\n",
    "print('Z-Score: '+str(round(z_CA_DE, 2)))\n",
    "\n"
   ]
  },
  {
   "cell_type": "markdown",
   "id": "d9e2e6c9",
   "metadata": {},
   "source": [
    "Since CA_mean and DE_mean were so clearly different, let's test NV_mean vs CA_mean since NV was the closest to CA. If these two means are statistically different, we can say with even more confidence that the average ratings between states are not the same.\n",
    "\n",
    "Null Hypothesis: CA_mean = NV_mean\n",
    "\n",
    "Alternate Hypothesis: CA_mean != NV_mean\n",
    "\n",
    "Significance Value = 1.96 (P-value 2.5%)\n",
    "\n",
    "Once again, we easily reject the null hypothesis with a Z-Score of 15.55. Even the top two values are statistically different.\n",
    "\n",
    "Thus we can conclude that Californian businesses are either higher quality than those in other states, or alternately reviewers in California are \"nicer\""
   ]
  },
  {
   "cell_type": "code",
   "execution_count": 8,
   "id": "0b682ec3",
   "metadata": {},
   "outputs": [
    {
     "name": "stdout",
     "output_type": "stream",
     "text": [
      "Z-Score: 15.55\n"
     ]
    }
   ],
   "source": [
    "df_NV = df_states[df_states.state=='NV']\n",
    "\n",
    "NV_mean = df_NV.stars.mean()\n",
    "NV_stdev = df_NV.stars.std()\n",
    "NV_count = df_NV.stars.count()\n",
    "\n",
    "z_CA_NV = (CA_mean - NV_mean) / (CA_stdev**2/CA_count + NV_stdev**2/NV_count)**0.5\n",
    "print('Z-Score: '+str(round(z_CA_NV, 2)))"
   ]
  },
  {
   "cell_type": "markdown",
   "id": "6aba6ea4",
   "metadata": {},
   "source": [
    "In conclusion, average ratings between states are statistically different in some cases (we could test further combinations to determine whether they are different in all cases). \n",
    "\n",
    "Possible drivers for this:\n",
    "- Reviewers within certain states are \"nicer\" than others - for example, reviewers in California (the state with the highest average rating) may be culturally biased towards higher ratings\n",
    "- Businesses in certain states are simply higher quality and therefore deserve higher ratings\n",
    "- A combination of these factors\n",
    "\n",
    "The differentiation in average ratings between states may be confusing for users who are traveling outside of their home state, particularly if the driver of this differentiation is the first bullet above. For example, if a 5-star review is more common in California than in Delaware, a user traveling from Delaware to California may be misled by an \"inflated\" 5-star review, which they would view as a stronger indicator given its relative rarity in the user's home state.\n",
    "\n",
    "Yelp may consider introducing a normalization feature whereby a user can input their home state, and ratings for businesses other states are automatically scaled to the average for the home state. Using the Delaware / California example again, a user traveling from Delaware to California would see Californian ratings adjusted downward to account for the relatively higher scores in California vs Delaware.\n",
    "\n",
    "For further investigation, we could look at specific users from various states and analyze whether their ratings for businesses out of their home state are statistically higher than the average rating for those businesses by users in the business's home state. This could isolate the \"niceness\" factor and test whether the first bullet above is the driver for the differentiation in average rating between states.\n"
   ]
  }
 ],
 "metadata": {
  "kernelspec": {
   "display_name": "Python 3 (ipykernel)",
   "language": "python",
   "name": "python3"
  },
  "language_info": {
   "codemirror_mode": {
    "name": "ipython",
    "version": 3
   },
   "file_extension": ".py",
   "mimetype": "text/x-python",
   "name": "python",
   "nbconvert_exporter": "python",
   "pygments_lexer": "ipython3",
   "version": "3.9.13"
  }
 },
 "nbformat": 4,
 "nbformat_minor": 5
}
